{
 "cells": [
  {
   "cell_type": "code",
   "execution_count": 3,
   "metadata": {},
   "outputs": [
    {
     "ename": "AttributeError",
     "evalue": "module 'collections' has no attribute 'MutableMapping'",
     "output_type": "error",
     "traceback": [
      "\u001b[1;31m---------------------------------------------------------------------------\u001b[0m",
      "\u001b[1;31mAttributeError\u001b[0m                            Traceback (most recent call last)",
      "Cell \u001b[1;32mIn[3], line 1\u001b[0m\n\u001b[1;32m----> 1\u001b[0m \u001b[39mimport\u001b[39;00m \u001b[39mcbpro\u001b[39;00m\n\u001b[0;32m      2\u001b[0m \u001b[39mimport\u001b[39;00m \u001b[39mpandas\u001b[39;00m \u001b[39mas\u001b[39;00m \u001b[39mpd\u001b[39;00m\n\u001b[0;32m      3\u001b[0m \u001b[39mimport\u001b[39;00m \u001b[39mrequests\u001b[39;00m\n",
      "File \u001b[1;32mc:\\Python\\Lib\\site-packages\\cbpro\\__init__.py:1\u001b[0m\n\u001b[1;32m----> 1\u001b[0m \u001b[39mfrom\u001b[39;00m \u001b[39mcbpro\u001b[39;00m\u001b[39m.\u001b[39;00m\u001b[39mauthenticated_client\u001b[39;00m \u001b[39mimport\u001b[39;00m AuthenticatedClient\n\u001b[0;32m      2\u001b[0m \u001b[39mfrom\u001b[39;00m \u001b[39mcbpro\u001b[39;00m\u001b[39m.\u001b[39;00m\u001b[39mpublic_client\u001b[39;00m \u001b[39mimport\u001b[39;00m PublicClient\n\u001b[0;32m      3\u001b[0m \u001b[39mfrom\u001b[39;00m \u001b[39mcbpro\u001b[39;00m\u001b[39m.\u001b[39;00m\u001b[39mwebsocket_client\u001b[39;00m \u001b[39mimport\u001b[39;00m WebsocketClient\n",
      "File \u001b[1;32mc:\\Python\\Lib\\site-packages\\cbpro\\authenticated_client.py:10\u001b[0m\n\u001b[0;32m      8\u001b[0m \u001b[39mimport\u001b[39;00m \u001b[39mhashlib\u001b[39;00m\n\u001b[0;32m      9\u001b[0m \u001b[39mimport\u001b[39;00m \u001b[39mtime\u001b[39;00m\n\u001b[1;32m---> 10\u001b[0m \u001b[39mimport\u001b[39;00m \u001b[39mrequests\u001b[39;00m\n\u001b[0;32m     11\u001b[0m \u001b[39mimport\u001b[39;00m \u001b[39mbase64\u001b[39;00m\n\u001b[0;32m     12\u001b[0m \u001b[39mimport\u001b[39;00m \u001b[39mjson\u001b[39;00m\n",
      "File \u001b[1;32mc:\\Python\\Lib\\site-packages\\requests\\__init__.py:63\u001b[0m\n\u001b[0;32m     60\u001b[0m \u001b[39mfrom\u001b[39;00m \u001b[39m.\u001b[39;00m\u001b[39mpackages\u001b[39;00m\u001b[39m.\u001b[39;00m\u001b[39murllib3\u001b[39;00m\u001b[39m.\u001b[39;00m\u001b[39mexceptions\u001b[39;00m \u001b[39mimport\u001b[39;00m DependencyWarning\n\u001b[0;32m     61\u001b[0m warnings\u001b[39m.\u001b[39msimplefilter(\u001b[39m'\u001b[39m\u001b[39mignore\u001b[39m\u001b[39m'\u001b[39m, DependencyWarning)\n\u001b[1;32m---> 63\u001b[0m \u001b[39mfrom\u001b[39;00m \u001b[39m.\u001b[39;00m \u001b[39mimport\u001b[39;00m utils\n\u001b[0;32m     64\u001b[0m \u001b[39mfrom\u001b[39;00m \u001b[39m.\u001b[39;00m\u001b[39mmodels\u001b[39;00m \u001b[39mimport\u001b[39;00m Request, Response, PreparedRequest\n\u001b[0;32m     65\u001b[0m \u001b[39mfrom\u001b[39;00m \u001b[39m.\u001b[39;00m\u001b[39mapi\u001b[39;00m \u001b[39mimport\u001b[39;00m request, get, head, post, patch, put, delete, options\n",
      "File \u001b[1;32mc:\\Python\\Lib\\site-packages\\requests\\utils.py:29\u001b[0m\n\u001b[0;32m     25\u001b[0m \u001b[39mfrom\u001b[39;00m \u001b[39m.\u001b[39;00m\u001b[39mcompat\u001b[39;00m \u001b[39mimport\u001b[39;00m parse_http_list \u001b[39mas\u001b[39;00m _parse_list_header\n\u001b[0;32m     26\u001b[0m \u001b[39mfrom\u001b[39;00m \u001b[39m.\u001b[39;00m\u001b[39mcompat\u001b[39;00m \u001b[39mimport\u001b[39;00m (\n\u001b[0;32m     27\u001b[0m     quote, urlparse, \u001b[39mbytes\u001b[39m, \u001b[39mstr\u001b[39m, OrderedDict, unquote, getproxies,\n\u001b[0;32m     28\u001b[0m     proxy_bypass, urlunparse, basestring, integer_types)\n\u001b[1;32m---> 29\u001b[0m \u001b[39mfrom\u001b[39;00m \u001b[39m.\u001b[39;00m\u001b[39mcookies\u001b[39;00m \u001b[39mimport\u001b[39;00m RequestsCookieJar, cookiejar_from_dict\n\u001b[0;32m     30\u001b[0m \u001b[39mfrom\u001b[39;00m \u001b[39m.\u001b[39;00m\u001b[39mstructures\u001b[39;00m \u001b[39mimport\u001b[39;00m CaseInsensitiveDict\n\u001b[0;32m     31\u001b[0m \u001b[39mfrom\u001b[39;00m \u001b[39m.\u001b[39;00m\u001b[39mexceptions\u001b[39;00m \u001b[39mimport\u001b[39;00m (\n\u001b[0;32m     32\u001b[0m     InvalidURL, InvalidHeader, FileModeWarning, UnrewindableBodyError)\n",
      "File \u001b[1;32mc:\\Python\\Lib\\site-packages\\requests\\cookies.py:174\u001b[0m\n\u001b[0;32m    168\u001b[0m \u001b[39mclass\u001b[39;00m \u001b[39mCookieConflictError\u001b[39;00m(\u001b[39mRuntimeError\u001b[39;00m):\n\u001b[0;32m    169\u001b[0m \u001b[39m    \u001b[39m\u001b[39m\"\"\"There are two cookies that meet the criteria specified in the cookie jar.\u001b[39;00m\n\u001b[0;32m    170\u001b[0m \u001b[39m    Use .get and .set and include domain and path args in order to be more specific.\u001b[39;00m\n\u001b[0;32m    171\u001b[0m \u001b[39m    \"\"\"\u001b[39;00m\n\u001b[1;32m--> 174\u001b[0m \u001b[39mclass\u001b[39;00m \u001b[39mRequestsCookieJar\u001b[39;00m(cookielib\u001b[39m.\u001b[39mCookieJar, collections\u001b[39m.\u001b[39mMutableMapping):\n\u001b[0;32m    175\u001b[0m \u001b[39m    \u001b[39m\u001b[39m\"\"\"Compatibility class; is a cookielib.CookieJar, but exposes a dict\u001b[39;00m\n\u001b[0;32m    176\u001b[0m \u001b[39m    interface.\u001b[39;00m\n\u001b[0;32m    177\u001b[0m \n\u001b[1;32m   (...)\u001b[0m\n\u001b[0;32m    189\u001b[0m \u001b[39m    .. warning:: dictionary operations that are normally O(1) may be O(n).\u001b[39;00m\n\u001b[0;32m    190\u001b[0m \u001b[39m    \"\"\"\u001b[39;00m\n\u001b[0;32m    192\u001b[0m     \u001b[39mdef\u001b[39;00m \u001b[39mget\u001b[39m(\u001b[39mself\u001b[39m, name, default\u001b[39m=\u001b[39m\u001b[39mNone\u001b[39;00m, domain\u001b[39m=\u001b[39m\u001b[39mNone\u001b[39;00m, path\u001b[39m=\u001b[39m\u001b[39mNone\u001b[39;00m):\n",
      "\u001b[1;31mAttributeError\u001b[0m: module 'collections' has no attribute 'MutableMapping'"
     ]
    }
   ],
   "source": [
    "import cbpro\n",
    "import pandas as pd\n",
    "import requests\n",
    "import base64\n",
    "import json\n",
    "from time import sleep\n",
    "import numpy as np\n",
    "\n",
    "public_client = cbpro.PublicClient()\n",
    "products = pd.DataFrame(public_client.get_products())\n",
    "print(products)\n",
    "# coin = 'SHIB-USD'\n",
    "# historical = pd.DataFrame(public_client.get_product_historic_rates(product_id=coin))\n",
    "# historical.columns= [\"Date\",\"Open\",\"High\",\"Low\",\"Close\",\"Volume\"]\n",
    "# historical['Date'] = pd.to_datetime(historical['Date'], unit='s')\n",
    "# historical.sort_values(by='Date', ascending=True, inplace=True)\n",
    "# print(historical)"
   ]
  }
 ],
 "metadata": {
  "kernelspec": {
   "display_name": "Python 3",
   "language": "python",
   "name": "python3"
  },
  "language_info": {
   "codemirror_mode": {
    "name": "ipython",
    "version": 3
   },
   "file_extension": ".py",
   "mimetype": "text/x-python",
   "name": "python",
   "nbconvert_exporter": "python",
   "pygments_lexer": "ipython3",
   "version": "3.11.3"
  },
  "orig_nbformat": 4
 },
 "nbformat": 4,
 "nbformat_minor": 2
}
